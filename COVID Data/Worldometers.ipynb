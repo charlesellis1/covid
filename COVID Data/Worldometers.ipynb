{
 "cells": [
  {
   "cell_type": "code",
   "execution_count": null,
   "metadata": {},
   "outputs": [],
   "source": []
  },
  {
   "cell_type": "code",
   "execution_count": 2,
   "metadata": {},
   "outputs": [],
   "source": [
    "import pandas as pd\n",
    "import numpy as np\n",
    "import requests\n",
    "import lxml.html as lh"
   ]
  },
  {
   "cell_type": "code",
   "execution_count": 17,
   "metadata": {},
   "outputs": [],
   "source": [
    "url='https://www.worldometers.info/coronavirus/country/us/'\n",
    "#Create a handle, page, to handle the contents of the website\n",
    "page = requests.get(url)\n",
    "#Store the contents of the website under doc\n",
    "doc = lh.fromstring(page.content)\n",
    "#Parse data that are stored between <tr>..</tr> of HTML\n",
    "tr_elements = doc.xpath('//tr')"
   ]
  },
  {
   "cell_type": "code",
   "execution_count": 18,
   "metadata": {},
   "outputs": [
    {
     "data": {
      "text/plain": [
       "[15, 15, 15, 15, 15, 15, 15, 15, 15, 15, 15, 15]"
      ]
     },
     "execution_count": 18,
     "metadata": {},
     "output_type": "execute_result"
    }
   ],
   "source": [
    "#Check the length of the first 12 rows\n",
    "[len(T) for T in tr_elements[:12]]"
   ]
  },
  {
   "cell_type": "code",
   "execution_count": 19,
   "metadata": {},
   "outputs": [
    {
     "name": "stdout",
     "output_type": "stream",
     "text": [
      "1:\"#\"\n",
      "2:\"USAState\"\n",
      "3:\"TotalCases\"\n",
      "4:\"NewCases\"\n",
      "5:\"TotalDeaths\"\n",
      "6:\"NewDeaths\"\n",
      "7:\"TotalRecovered\"\n",
      "8:\"ActiveCases\"\n",
      "9:\"Tot Cases/1M pop\"\n",
      "10:\"Deaths/1M pop\"\n",
      "11:\"TotalTests\"\n",
      "12:\"Tests/\n",
      "1M pop\n",
      "\"\n",
      "13:\"Population\"\n",
      "14:\"Source\"\n",
      "15:\"Projections\"\n"
     ]
    }
   ],
   "source": [
    "tr_elements = doc.xpath('//tr')\n",
    "#Create empty list\n",
    "col=[]\n",
    "i=0\n",
    "#For each row, store each first element (header) and an empty list\n",
    "for t in tr_elements[0]:\n",
    "    i+=1\n",
    "    name=t.text_content()\n",
    "    print('%d:\"%s\"'%(i,name))\n",
    "    col.append((name,[]))"
   ]
  },
  {
   "cell_type": "code",
   "execution_count": 20,
   "metadata": {},
   "outputs": [],
   "source": [
    "#Since out first row is the header, data is stored on the second row onwards\n",
    "for j in range(1,len(tr_elements)):\n",
    "    #T is our j'th row\n",
    "    T=tr_elements[j]\n",
    "    \n",
    "    #If row is not of size 10, the //tr data is not from our table \n",
    "    if len(T)!=15:\n",
    "        break\n",
    "    \n",
    "    #i is the index of our column\n",
    "    i=0\n",
    "    \n",
    "    #Iterate through each element of the row\n",
    "    for t in T.iterchildren():\n",
    "        data=t.text_content() \n",
    "        #Check if row is empty\n",
    "        if i>0:\n",
    "        #Convert any numerical value to integers\n",
    "            try:\n",
    "                data=int(data)\n",
    "            except:\n",
    "                pass\n",
    "        #Append the data to the empty list of the i'th column\n",
    "        col[i][1].append(data)\n",
    "        #Increment i for the next column\n",
    "        i+=1"
   ]
  },
  {
   "cell_type": "code",
   "execution_count": 21,
   "metadata": {},
   "outputs": [
    {
     "data": {
      "text/plain": [
       "[64, 64, 64, 64, 64, 64, 64, 64, 64, 64, 64, 64, 64, 64, 64]"
      ]
     },
     "execution_count": 21,
     "metadata": {},
     "output_type": "execute_result"
    }
   ],
   "source": [
    "[len(C) for (title,C) in col]"
   ]
  },
  {
   "cell_type": "code",
   "execution_count": 22,
   "metadata": {},
   "outputs": [],
   "source": [
    "Dict={title:column for (title,column) in col}\n",
    "df=pd.DataFrame(Dict)"
   ]
  },
  {
   "cell_type": "code",
   "execution_count": 25,
   "metadata": {},
   "outputs": [
    {
     "data": {
      "text/html": [
       "<div>\n",
       "<style scoped>\n",
       "    .dataframe tbody tr th:only-of-type {\n",
       "        vertical-align: middle;\n",
       "    }\n",
       "\n",
       "    .dataframe tbody tr th {\n",
       "        vertical-align: top;\n",
       "    }\n",
       "\n",
       "    .dataframe thead th {\n",
       "        text-align: right;\n",
       "    }\n",
       "</style>\n",
       "<table border=\"1\" class=\"dataframe\">\n",
       "  <thead>\n",
       "    <tr style=\"text-align: right;\">\n",
       "      <th></th>\n",
       "      <th>#</th>\n",
       "      <th>USAState</th>\n",
       "      <th>TotalCases</th>\n",
       "      <th>NewCases</th>\n",
       "      <th>TotalDeaths</th>\n",
       "      <th>NewDeaths</th>\n",
       "      <th>TotalRecovered</th>\n",
       "      <th>ActiveCases</th>\n",
       "      <th>Tot Cases/1M pop</th>\n",
       "      <th>Deaths/1M pop</th>\n",
       "      <th>TotalTests</th>\n",
       "      <th>Tests/\\n1M pop\\n</th>\n",
       "      <th>Population</th>\n",
       "      <th>Source</th>\n",
       "      <th>Projections</th>\n",
       "    </tr>\n",
       "  </thead>\n",
       "  <tbody>\n",
       "    <tr>\n",
       "      <th>0</th>\n",
       "      <td></td>\n",
       "      <td>USA Total</td>\n",
       "      <td>18,078,009</td>\n",
       "      <td></td>\n",
       "      <td>323,404</td>\n",
       "      <td></td>\n",
       "      <td>10,545,445</td>\n",
       "      <td>7,209,160</td>\n",
       "      <td>54,616</td>\n",
       "      <td>977</td>\n",
       "      <td>232,596,953</td>\n",
       "      <td>702,704</td>\n",
       "      <td></td>\n",
       "      <td></td>\n",
       "      <td></td>\n",
       "    </tr>\n",
       "    <tr>\n",
       "      <th>1</th>\n",
       "      <td>1</td>\n",
       "      <td>\\nCalifornia</td>\n",
       "      <td>1,846,398</td>\n",
       "      <td>\\n</td>\n",
       "      <td>\\n22,594</td>\n",
       "      <td></td>\n",
       "      <td>\\n741,319</td>\n",
       "      <td>\\n1,082,485</td>\n",
       "      <td>46,730</td>\n",
       "      <td>572</td>\n",
       "      <td>\\n29,112,249</td>\n",
       "      <td>736,791</td>\n",
       "      <td>\\n39,512,223</td>\n",
       "      <td>\\n[view by county] [1]</td>\n",
       "      <td>\\n[projections]\\n</td>\n",
       "    </tr>\n",
       "    <tr>\n",
       "      <th>2</th>\n",
       "      <td>2</td>\n",
       "      <td>\\nTexas</td>\n",
       "      <td>1,586,901</td>\n",
       "      <td>\\n</td>\n",
       "      <td>\\n25,910</td>\n",
       "      <td></td>\n",
       "      <td>\\n1,283,039</td>\n",
       "      <td>\\n277,952</td>\n",
       "      <td>54,728</td>\n",
       "      <td>894</td>\n",
       "      <td>\\n14,189,044</td>\n",
       "      <td>489,347</td>\n",
       "      <td>\\n28,995,881</td>\n",
       "      <td>\\n[view by county] [1] [2] [3]</td>\n",
       "      <td>\\n[projections]\\n</td>\n",
       "    </tr>\n",
       "    <tr>\n",
       "      <th>3</th>\n",
       "      <td>3</td>\n",
       "      <td>\\nFlorida</td>\n",
       "      <td>1,193,165</td>\n",
       "      <td>\\n</td>\n",
       "      <td>\\n20,484</td>\n",
       "      <td></td>\n",
       "      <td>\\n701,417</td>\n",
       "      <td>\\n471,264</td>\n",
       "      <td>55,554</td>\n",
       "      <td>954</td>\n",
       "      <td>\\n14,518,063</td>\n",
       "      <td>675,959</td>\n",
       "      <td>\\n21,477,737</td>\n",
       "      <td>\\n[view by county] [1] [2] [3]</td>\n",
       "      <td>\\n[projections]\\n</td>\n",
       "    </tr>\n",
       "    <tr>\n",
       "      <th>4</th>\n",
       "      <td>4</td>\n",
       "      <td>\\nIllinois</td>\n",
       "      <td>894,367</td>\n",
       "      <td>\\n</td>\n",
       "      <td>\\n16,326</td>\n",
       "      <td></td>\n",
       "      <td>\\n560,734</td>\n",
       "      <td>\\n317,307</td>\n",
       "      <td>70,579</td>\n",
       "      <td>1,288</td>\n",
       "      <td>\\n12,356,446</td>\n",
       "      <td>975,112</td>\n",
       "      <td>\\n12,671,821</td>\n",
       "      <td>\\n[1] [2] [3] [4] [5]</td>\n",
       "      <td>\\n[projections]\\n</td>\n",
       "    </tr>\n",
       "  </tbody>\n",
       "</table>\n",
       "</div>"
      ],
      "text/plain": [
       "   #       USAState  TotalCases NewCases TotalDeaths NewDeaths TotalRecovered  \\\n",
       "0         USA Total  18,078,009              323,404               10,545,445   \n",
       "1  1  \\nCalifornia   1,846,398        \\n   \\n22,594                \\n741,319    \n",
       "2  2       \\nTexas   1,586,901        \\n   \\n25,910              \\n1,283,039    \n",
       "3  3     \\nFlorida   1,193,165        \\n   \\n20,484                \\n701,417    \n",
       "4  4    \\nIllinois     894,367        \\n   \\n16,326                \\n560,734    \n",
       "\n",
       "    ActiveCases Tot Cases/1M pop Deaths/1M pop     TotalTests  \\\n",
       "0     7,209,160           54,616           977    232,596,953   \n",
       "1  \\n1,082,485            46,730           572  \\n29,112,249    \n",
       "2    \\n277,952            54,728           894  \\n14,189,044    \n",
       "3    \\n471,264            55,554           954  \\n14,518,063    \n",
       "4    \\n317,307            70,579         1,288  \\n12,356,446    \n",
       "\n",
       "  Tests/\\n1M pop\\n     Population                            Source  \\\n",
       "0          702,704                                                    \n",
       "1          736,791  \\n39,512,223           \\n[view by county] [1]     \n",
       "2          489,347  \\n28,995,881   \\n[view by county] [1] [2] [3]     \n",
       "3          675,959  \\n21,477,737   \\n[view by county] [1] [2] [3]     \n",
       "4          975,112  \\n12,671,821            \\n[1] [2] [3] [4] [5]     \n",
       "\n",
       "         Projections  \n",
       "0                     \n",
       "1  \\n[projections]\\n  \n",
       "2  \\n[projections]\\n  \n",
       "3  \\n[projections]\\n  \n",
       "4  \\n[projections]\\n  "
      ]
     },
     "execution_count": 25,
     "metadata": {},
     "output_type": "execute_result"
    }
   ],
   "source": [
    "df.head()"
   ]
  },
  {
   "cell_type": "code",
   "execution_count": 57,
   "metadata": {},
   "outputs": [],
   "source": [
    "for i in df['USAState']:\n",
    "    p = str(i)\n",
    "    i = p.strip(\"\\n\")"
   ]
  },
  {
   "cell_type": "code",
   "execution_count": 58,
   "metadata": {},
   "outputs": [
    {
     "data": {
      "text/plain": [
       "'Hello'"
      ]
     },
     "execution_count": 58,
     "metadata": {},
     "output_type": "execute_result"
    }
   ],
   "source": [
    "string = \"\\nHello\"\n",
    "string.strip(\"\\n\")"
   ]
  },
  {
   "cell_type": "code",
   "execution_count": 59,
   "metadata": {},
   "outputs": [
    {
     "data": {
      "text/html": [
       "<div>\n",
       "<style scoped>\n",
       "    .dataframe tbody tr th:only-of-type {\n",
       "        vertical-align: middle;\n",
       "    }\n",
       "\n",
       "    .dataframe tbody tr th {\n",
       "        vertical-align: top;\n",
       "    }\n",
       "\n",
       "    .dataframe thead th {\n",
       "        text-align: right;\n",
       "    }\n",
       "</style>\n",
       "<table border=\"1\" class=\"dataframe\">\n",
       "  <thead>\n",
       "    <tr style=\"text-align: right;\">\n",
       "      <th></th>\n",
       "      <th>#</th>\n",
       "      <th>USAState</th>\n",
       "      <th>TotalCases</th>\n",
       "      <th>NewCases</th>\n",
       "      <th>TotalDeaths</th>\n",
       "      <th>NewDeaths</th>\n",
       "      <th>TotalRecovered</th>\n",
       "      <th>ActiveCases</th>\n",
       "      <th>Tot Cases/1M pop</th>\n",
       "      <th>Deaths/1M pop</th>\n",
       "      <th>TotalTests</th>\n",
       "      <th>Tests/\\n1M pop\\n</th>\n",
       "      <th>Population</th>\n",
       "      <th>Source</th>\n",
       "      <th>Projections</th>\n",
       "    </tr>\n",
       "  </thead>\n",
       "  <tbody>\n",
       "    <tr>\n",
       "      <th>0</th>\n",
       "      <td></td>\n",
       "      <td>USA Total</td>\n",
       "      <td>18,078,009</td>\n",
       "      <td></td>\n",
       "      <td>323,404</td>\n",
       "      <td></td>\n",
       "      <td>10,545,445</td>\n",
       "      <td>7,209,160</td>\n",
       "      <td>54,616</td>\n",
       "      <td>977</td>\n",
       "      <td>232,596,953</td>\n",
       "      <td>702,704</td>\n",
       "      <td></td>\n",
       "      <td></td>\n",
       "      <td></td>\n",
       "    </tr>\n",
       "    <tr>\n",
       "      <th>1</th>\n",
       "      <td>1</td>\n",
       "      <td>\\nCalifornia</td>\n",
       "      <td>1,846,398</td>\n",
       "      <td>\\n</td>\n",
       "      <td>\\n22,594</td>\n",
       "      <td></td>\n",
       "      <td>\\n741,319</td>\n",
       "      <td>\\n1,082,485</td>\n",
       "      <td>46,730</td>\n",
       "      <td>572</td>\n",
       "      <td>\\n29,112,249</td>\n",
       "      <td>736,791</td>\n",
       "      <td>\\n39,512,223</td>\n",
       "      <td>\\n[view by county] [1]</td>\n",
       "      <td>\\n[projections]\\n</td>\n",
       "    </tr>\n",
       "    <tr>\n",
       "      <th>2</th>\n",
       "      <td>2</td>\n",
       "      <td>\\nTexas</td>\n",
       "      <td>1,586,901</td>\n",
       "      <td>\\n</td>\n",
       "      <td>\\n25,910</td>\n",
       "      <td></td>\n",
       "      <td>\\n1,283,039</td>\n",
       "      <td>\\n277,952</td>\n",
       "      <td>54,728</td>\n",
       "      <td>894</td>\n",
       "      <td>\\n14,189,044</td>\n",
       "      <td>489,347</td>\n",
       "      <td>\\n28,995,881</td>\n",
       "      <td>\\n[view by county] [1] [2] [3]</td>\n",
       "      <td>\\n[projections]\\n</td>\n",
       "    </tr>\n",
       "    <tr>\n",
       "      <th>3</th>\n",
       "      <td>3</td>\n",
       "      <td>\\nFlorida</td>\n",
       "      <td>1,193,165</td>\n",
       "      <td>\\n</td>\n",
       "      <td>\\n20,484</td>\n",
       "      <td></td>\n",
       "      <td>\\n701,417</td>\n",
       "      <td>\\n471,264</td>\n",
       "      <td>55,554</td>\n",
       "      <td>954</td>\n",
       "      <td>\\n14,518,063</td>\n",
       "      <td>675,959</td>\n",
       "      <td>\\n21,477,737</td>\n",
       "      <td>\\n[view by county] [1] [2] [3]</td>\n",
       "      <td>\\n[projections]\\n</td>\n",
       "    </tr>\n",
       "    <tr>\n",
       "      <th>4</th>\n",
       "      <td>4</td>\n",
       "      <td>\\nIllinois</td>\n",
       "      <td>894,367</td>\n",
       "      <td>\\n</td>\n",
       "      <td>\\n16,326</td>\n",
       "      <td></td>\n",
       "      <td>\\n560,734</td>\n",
       "      <td>\\n317,307</td>\n",
       "      <td>70,579</td>\n",
       "      <td>1,288</td>\n",
       "      <td>\\n12,356,446</td>\n",
       "      <td>975,112</td>\n",
       "      <td>\\n12,671,821</td>\n",
       "      <td>\\n[1] [2] [3] [4] [5]</td>\n",
       "      <td>\\n[projections]\\n</td>\n",
       "    </tr>\n",
       "  </tbody>\n",
       "</table>\n",
       "</div>"
      ],
      "text/plain": [
       "   #       USAState  TotalCases NewCases TotalDeaths NewDeaths TotalRecovered  \\\n",
       "0         USA Total  18,078,009              323,404               10,545,445   \n",
       "1  1  \\nCalifornia   1,846,398        \\n   \\n22,594                \\n741,319    \n",
       "2  2       \\nTexas   1,586,901        \\n   \\n25,910              \\n1,283,039    \n",
       "3  3     \\nFlorida   1,193,165        \\n   \\n20,484                \\n701,417    \n",
       "4  4    \\nIllinois     894,367        \\n   \\n16,326                \\n560,734    \n",
       "\n",
       "    ActiveCases Tot Cases/1M pop Deaths/1M pop     TotalTests  \\\n",
       "0     7,209,160           54,616           977    232,596,953   \n",
       "1  \\n1,082,485            46,730           572  \\n29,112,249    \n",
       "2    \\n277,952            54,728           894  \\n14,189,044    \n",
       "3    \\n471,264            55,554           954  \\n14,518,063    \n",
       "4    \\n317,307            70,579         1,288  \\n12,356,446    \n",
       "\n",
       "  Tests/\\n1M pop\\n     Population                            Source  \\\n",
       "0          702,704                                                    \n",
       "1          736,791  \\n39,512,223           \\n[view by county] [1]     \n",
       "2          489,347  \\n28,995,881   \\n[view by county] [1] [2] [3]     \n",
       "3          675,959  \\n21,477,737   \\n[view by county] [1] [2] [3]     \n",
       "4          975,112  \\n12,671,821            \\n[1] [2] [3] [4] [5]     \n",
       "\n",
       "         Projections  \n",
       "0                     \n",
       "1  \\n[projections]\\n  \n",
       "2  \\n[projections]\\n  \n",
       "3  \\n[projections]\\n  \n",
       "4  \\n[projections]\\n  "
      ]
     },
     "execution_count": 59,
     "metadata": {},
     "output_type": "execute_result"
    }
   ],
   "source": [
    "df.head()"
   ]
  },
  {
   "cell_type": "code",
   "execution_count": 62,
   "metadata": {},
   "outputs": [
    {
     "ename": "AttributeError",
     "evalue": "'lxml.etree._ElementUnicodeResult' object has no attribute 'astype'",
     "output_type": "error",
     "traceback": [
      "\u001b[0;31m---------------------------------------------------------------------------\u001b[0m",
      "\u001b[0;31mAttributeError\u001b[0m                            Traceback (most recent call last)",
      "\u001b[0;32m<ipython-input-62-3e47c36e23a2>\u001b[0m in \u001b[0;36m<module>\u001b[0;34m\u001b[0m\n\u001b[0;32m----> 1\u001b[0;31m \u001b[0mdf\u001b[0m\u001b[0;34m[\u001b[0m\u001b[0;34m'USAState'\u001b[0m\u001b[0;34m]\u001b[0m\u001b[0;34m[\u001b[0m\u001b[0;36m1\u001b[0m\u001b[0;34m]\u001b[0m\u001b[0;34m.\u001b[0m\u001b[0mastype\u001b[0m\u001b[0;34m(\u001b[0m\u001b[0;34m)\u001b[0m\u001b[0;34m\u001b[0m\u001b[0;34m\u001b[0m\u001b[0m\n\u001b[0m",
      "\u001b[0;31mAttributeError\u001b[0m: 'lxml.etree._ElementUnicodeResult' object has no attribute 'astype'"
     ]
    }
   ],
   "source": []
  },
  {
   "cell_type": "code",
   "execution_count": null,
   "metadata": {},
   "outputs": [],
   "source": []
  }
 ],
 "metadata": {
  "kernelspec": {
   "display_name": "Python 3",
   "language": "python",
   "name": "python3"
  },
  "language_info": {
   "codemirror_mode": {
    "name": "ipython",
    "version": 3
   },
   "file_extension": ".py",
   "mimetype": "text/x-python",
   "name": "python",
   "nbconvert_exporter": "python",
   "pygments_lexer": "ipython3",
   "version": "3.8.6"
  }
 },
 "nbformat": 4,
 "nbformat_minor": 4
}
